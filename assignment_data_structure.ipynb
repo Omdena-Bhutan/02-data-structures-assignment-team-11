{
  "nbformat": 4,
  "nbformat_minor": 0,
  "metadata": {
    "colab": {
      "provenance": [],
      "authorship_tag": "ABX9TyNG3OqVcYr+SGXGiy/l9cMB",
      "include_colab_link": true
    },
    "kernelspec": {
      "name": "python3",
      "display_name": "Python 3"
    },
    "language_info": {
      "name": "python"
    }
  },
  "cells": [
    {
      "cell_type": "markdown",
      "metadata": {
        "id": "view-in-github",
        "colab_type": "text"
      },
      "source": [
        "<a href=\"https://colab.research.google.com/github/Omdena-Bhutan/02-data-structures-assignment-team-11/blob/main/assignment_data_structure.ipynb\" target=\"_parent\"><img src=\"https://colab.research.google.com/assets/colab-badge.svg\" alt=\"Open In Colab\"/></a>"
      ]
    },
    {
      "cell_type": "code",
      "source": [
        "# create the dictionary\n",
        "character_profile={\n",
        "    'name':\"Alistair the Brave\",\n",
        "    'Level': 1,\n",
        "    'health': 100,\n",
        "    'Mana':50,\n",
        "    'Gold':50.75,\n",
        "    'is_alive': True\n",
        "}"
      ],
      "metadata": {
        "id": "BCErrei9FTyk"
      },
      "execution_count": null,
      "outputs": []
    },
    {
      "cell_type": "code",
      "source": [
        "# print the character name and level in a formatted string\n",
        "print(f\"Character:{character_profile['name']},Level:{character_profile['Level']}\")"
      ],
      "metadata": {
        "colab": {
          "base_uri": "https://localhost:8080/"
        },
        "id": "QUAwUBDa7Gki",
        "outputId": "87bfa778-ebc8-43fb-e828-65d68f5eb771"
      },
      "execution_count": null,
      "outputs": [
        {
          "output_type": "stream",
          "name": "stdout",
          "text": [
            "Character:Alistair the Brave,Level:1\n"
          ]
        }
      ]
    },
    {
      "cell_type": "code",
      "source": [
        "#update the characters Health t0 85\n",
        "character_profile['health']=85\n",
        "print(f\"health updatedto:{character_profile['health']}\")\n"
      ],
      "metadata": {
        "colab": {
          "base_uri": "https://localhost:8080/"
        },
        "id": "JQzGVkoRGGVK",
        "outputId": "a3a1e0e5-2822-426e-c971-db16e3472213"
      },
      "execution_count": null,
      "outputs": [
        {
          "output_type": "stream",
          "name": "stdout",
          "text": [
            "health updatedto:85\n"
          ]
        }
      ]
    },
    {
      "cell_type": "code",
      "source": [
        "# Add a new key-value pair\n",
        "character_profile['exprience']=0\n",
        "print(f\"exprience to :{character_profile['exprience']}\")"
      ],
      "metadata": {
        "colab": {
          "base_uri": "https://localhost:8080/"
        },
        "id": "7IEey3PY-K3n",
        "outputId": "1411dc92-13a7-4f30-e17c-5f4447c68a14"
      },
      "execution_count": null,
      "outputs": [
        {
          "output_type": "stream",
          "name": "stdout",
          "text": [
            "exprience to :0\n"
          ]
        }
      ]
    },
    {
      "cell_type": "code",
      "source": [],
      "metadata": {
        "id": "wy5P4cBWI35U"
      },
      "execution_count": null,
      "outputs": []
    },
    {
      "cell_type": "code",
      "source": [
        "# Print the final character_profile\n",
        "for key,value in character_profile.items():\n",
        "  print(f'{key.capitalize()}:{value}')"
      ],
      "metadata": {
        "colab": {
          "base_uri": "https://localhost:8080/"
        },
        "id": "f13OfWjS_WyD",
        "outputId": "3b49850c-a2f0-4794-9f56-27eed7777897"
      },
      "execution_count": null,
      "outputs": [
        {
          "output_type": "stream",
          "name": "stdout",
          "text": [
            "Name:Alistair the Brave\n",
            "Level:1\n",
            "Health:85\n",
            "Mana:50\n",
            "Gold:50.75\n",
            "Is_alive:True\n",
            "Exprience:0\n"
          ]
        }
      ]
    },
    {
      "cell_type": "code",
      "source": [
        "# Initialize the inventory list\n",
        "inventory=['swort', 'shield','health Portion']\n",
        "inventory"
      ],
      "metadata": {
        "colab": {
          "base_uri": "https://localhost:8080/"
        },
        "id": "_4RA399_JDG8",
        "outputId": "a50d7e98-9bcb-452e-ea36-f7d435f53e28"
      },
      "execution_count": null,
      "outputs": [
        {
          "output_type": "execute_result",
          "data": {
            "text/plain": [
              "['swort', 'shield', 'health Portion']"
            ]
          },
          "metadata": {},
          "execution_count": 41
        }
      ]
    },
    {
      "cell_type": "code",
      "source": [
        "# add new item\n",
        "inventory.append('mana portion')\n",
        "inventory"
      ],
      "metadata": {
        "colab": {
          "base_uri": "https://localhost:8080/"
        },
        "id": "bHlINaVpaqz2",
        "outputId": "72f0347a-508b-441f-a167-8ef0310a7d2a"
      },
      "execution_count": null,
      "outputs": [
        {
          "output_type": "execute_result",
          "data": {
            "text/plain": [
              "['swort', 'shield', 'health Portion', 'mana portion']"
            ]
          },
          "metadata": {},
          "execution_count": 42
        }
      ]
    },
    {
      "cell_type": "code",
      "source": [
        "# remove an existing item\n",
        "inventory.remove('shield')\n",
        "inventory"
      ],
      "metadata": {
        "colab": {
          "base_uri": "https://localhost:8080/"
        },
        "id": "p9ihyAA5a69C",
        "outputId": "2641298b-a363-4a56-a44e-9109654ad756"
      },
      "execution_count": null,
      "outputs": [
        {
          "output_type": "execute_result",
          "data": {
            "text/plain": [
              "['swort', 'health Portion', 'mana portion']"
            ]
          },
          "metadata": {},
          "execution_count": 43
        }
      ]
    },
    {
      "cell_type": "code",
      "source": [
        "#Use a for loop to iterate through the inventory list and print each item.\n",
        "print(\"Alistair's inventory:\")\n",
        "print(\"________\")\n",
        "for item in inventory:\n",
        "  print(f\"_{item}\")\n",
        "\n"
      ],
      "metadata": {
        "colab": {
          "base_uri": "https://localhost:8080/"
        },
        "id": "RoxppXlXb73D",
        "outputId": "935c1c95-29ae-4de3-e53b-b8749f49967a"
      },
      "execution_count": null,
      "outputs": [
        {
          "output_type": "stream",
          "name": "stdout",
          "text": [
            "Alistair's inventory:\n",
            "________\n",
            "_swort\n",
            "_health Portion\n",
            "_mana portion\n"
          ]
        }
      ]
    },
    {
      "cell_type": "markdown",
      "source": [
        "Part 3 Character Stats (Using Tuples)"
      ],
      "metadata": {
        "id": "AmEsFiJwh7sl"
      }
    },
    {
      "cell_type": "code",
      "source": [
        "#Tuples are great for storing data that should not change\n",
        "#Create a tuple named base_stats to store Alistair's base attributes\n",
        "#The tuple should contain (strength, dexterity, intelligence)\n",
        "#Choose a sta,rting value for each attribute (e.g., (10, 8, 12)).\n",
        "\n",
        "base_stats=(10,8,10),"
      ],
      "metadata": {
        "id": "iH_MejIqiCdr"
      },
      "execution_count": null,
      "outputs": []
    },
    {
      "cell_type": "code",
      "source": [
        "# the tuple should contain and base_state\n",
        "tuple=('Strength', 'dexterity', 'intelligence')\n",
        "\n",
        "tuple\n"
      ],
      "metadata": {
        "colab": {
          "base_uri": "https://localhost:8080/"
        },
        "id": "A5p3P1p-spLn",
        "outputId": "085e746d-eace-425e-e886-255b99078402"
      },
      "execution_count": null,
      "outputs": [
        {
          "output_type": "execute_result",
          "data": {
            "text/plain": [
              "('Strength', 'dexterity', 'intelligence')"
            ]
          },
          "metadata": {},
          "execution_count": 88
        }
      ]
    },
    {
      "cell_type": "code",
      "source": [
        "#Print a statement explaining why a tuple is a good choice for base stats (because they are immutable and won't change).\n",
        "reason='besause they are immutable and wont change'\n",
        "print(reason)"
      ],
      "metadata": {
        "colab": {
          "base_uri": "https://localhost:8080/"
        },
        "id": "AFYm2F_2kbwo",
        "outputId": "6d8b6697-b70f-4286-d50d-0be362f327cb"
      },
      "execution_count": null,
      "outputs": [
        {
          "output_type": "stream",
          "name": "stdout",
          "text": [
            "besause they are immutable and wont change\n"
          ]
        }
      ]
    },
    {
      "cell_type": "code",
      "source": [
        "#Access and print the value of intelligence from the base_stats\n",
        "my_tuples[2]"
      ],
      "metadata": {
        "colab": {
          "base_uri": "https://localhost:8080/"
        },
        "id": "4ymD5XYLrajs",
        "outputId": "026df94e-ed4a-4993-e8ff-4ab13744733f"
      },
      "execution_count": null,
      "outputs": [
        {
          "output_type": "execute_result",
          "data": {
            "text/plain": [
              "12"
            ]
          },
          "metadata": {},
          "execution_count": 81
        }
      ]
    },
    {
      "cell_type": "code",
      "source": [
        "#try to change one of the values inthe tuple. observe and explain yhe erroe you receive\n",
        "\n"
      ],
      "metadata": {
        "id": "SaM6QOYuvAh7"
      },
      "execution_count": null,
      "outputs": []
    },
    {
      "cell_type": "markdown",
      "source": [
        "Quest Log (Using Sets)"
      ],
      "metadata": {
        "id": "Lmj5-z2XyTZG"
      }
    },
    {
      "cell_type": "code",
      "source": [
        "# A set is ideal for tracking unique items. Create a set named quest_log to store the titles of Alistair's active quests.\n",
        "quest_log = {}"
      ],
      "metadata": {
        "id": "AHsBu5SCyoCj"
      },
      "execution_count": null,
      "outputs": []
    },
    {
      "cell_type": "code",
      "source": [
        "#initialize the set with a few quest to the log\n",
        "quest_log = {'Defeat the Goblin King', 'Find the Lost Amulet'}\n",
        "print(quest_log)"
      ],
      "metadata": {
        "colab": {
          "base_uri": "https://localhost:8080/"
        },
        "id": "uW3wN08NznnD",
        "outputId": "dc466783-aabc-476b-b6b0-9fc881af98cb"
      },
      "execution_count": null,
      "outputs": [
        {
          "output_type": "stream",
          "name": "stdout",
          "text": [
            "{'Find the Lost Amulet', 'Defeat the Goblin King'}\n"
          ]
        }
      ]
    },
    {
      "cell_type": "code",
      "source": [
        "# Add a new quest to the log (e.g., 'Deliver the Old Scroll').\n",
        "quest_log.add('Deliver the Old Scroll')\n",
        "print(quest_log)"
      ],
      "metadata": {
        "colab": {
          "base_uri": "https://localhost:8080/"
        },
        "id": "P0JOwi6v0BaM",
        "outputId": "d45ae44d-746f-4422-f23e-30c6ecf90eaf"
      },
      "execution_count": null,
      "outputs": [
        {
          "output_type": "stream",
          "name": "stdout",
          "text": [
            "{'Find the Lost Amulet', 'Defeat the Goblin King', 'Deliver the Old Scroll'}\n"
          ]
        }
      ]
    },
    {
      "cell_type": "code",
      "source": [
        "# Remove an existing quest from the log (e.g., 'Find the Lost Amulet').\n",
        "quest_log.remove('Find the Lost Amulet')\n",
        "print(quest_log)\n"
      ],
      "metadata": {
        "colab": {
          "base_uri": "https://localhost:8080/"
        },
        "id": "y72sN9w40PcK",
        "outputId": "fe54ea4e-85ca-45c5-e467-c9308d401ca4"
      },
      "execution_count": null,
      "outputs": [
        {
          "output_type": "stream",
          "name": "stdout",
          "text": [
            "{'Defeat the Goblin King', 'Deliver the Old Scroll'}\n"
          ]
        }
      ]
    },
    {
      "cell_type": "code",
      "source": [
        "# Add a quest to the log that is already in the set. Notice how the set handles duplicates.\n",
        "quest_log.add('Deliver the Old Scroll')\n",
        "quest_log"
      ],
      "metadata": {
        "colab": {
          "base_uri": "https://localhost:8080/"
        },
        "id": "1Fn2YBgl3wxJ",
        "outputId": "8e27fcdc-3e43-4c24-8924-f95b77811a02"
      },
      "execution_count": null,
      "outputs": [
        {
          "output_type": "execute_result",
          "data": {
            "text/plain": [
              "{'Defeat the Goblin King', 'Deliver the Old Scroll'}"
            ]
          },
          "metadata": {},
          "execution_count": 108
        }
      ]
    },
    {
      "cell_type": "code",
      "source": [
        "# Remove a completed quest from the log (e.g., 'Find the Lost Amulet').\n",
        "quest_log.remove('Deliver the Old Scroll')\n",
        "quest_log\n"
      ],
      "metadata": {
        "colab": {
          "base_uri": "https://localhost:8080/"
        },
        "id": "hBo-S-z74OXN",
        "outputId": "39b5b423-0cf9-4aa7-8a26-48ed127391f0"
      },
      "execution_count": null,
      "outputs": [
        {
          "output_type": "execute_result",
          "data": {
            "text/plain": [
              "{'Defeat the Goblin King'}"
            ]
          },
          "metadata": {},
          "execution_count": 109
        }
      ]
    },
    {
      "cell_type": "code",
      "source": [
        "# Print the final quest_log set.\n",
        "print(quest_log)"
      ],
      "metadata": {
        "colab": {
          "base_uri": "https://localhost:8080/"
        },
        "id": "KckVjHfw4T__",
        "outputId": "650075e3-400d-4a3c-db40-b02d0ee971a9"
      },
      "execution_count": null,
      "outputs": [
        {
          "output_type": "stream",
          "name": "stdout",
          "text": [
            "{'Defeat the Goblin King'}\n"
          ]
        }
      ]
    },
    {
      "cell_type": "code",
      "source": [
        "# Now, combine all the data structures into a single character_sheet dictionary. This dictionary will hold all the information you've created so far.\n",
        "\n",
        "charecter_sheet = {\n",
        "    'Character': character_profile,\n",
        "    'inventory': inventory,\n",
        "    'stats': base_state,\n",
        "    'quests': quest_log\n",
        "    }\n",
        "\n",
        "charecter_sheet"
      ],
      "metadata": {
        "colab": {
          "base_uri": "https://localhost:8080/"
        },
        "id": "JgjWxk3B4z9W",
        "outputId": "21e27ac4-bc3e-4624-9da1-87a85b76c12e"
      },
      "execution_count": null,
      "outputs": [
        {
          "output_type": "execute_result",
          "data": {
            "text/plain": [
              "{'Character': {'name': 'Alistair the Brave',\n",
              "  'Level': 1,\n",
              "  'health': 85,\n",
              "  'Mana': 50,\n",
              "  'Gold': 50.75,\n",
              "  'is_alive': True,\n",
              "  'exprience': 0},\n",
              " 'inventory': ['swort', 'health Portion', 'mana portion'],\n",
              " 'stats': ((10, 8, 10),),\n",
              " 'quests': {'Defeat the Goblin King'}}"
            ]
          },
          "metadata": {},
          "execution_count": 117
        }
      ]
    }
  ]
}