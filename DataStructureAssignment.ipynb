{
  "nbformat": 4,
  "nbformat_minor": 0,
  "metadata": {
    "colab": {
      "provenance": [],
      "authorship_tag": "ABX9TyPWIrocxRAHgbLV60+BhpxC",
      "include_colab_link": true
    },
    "kernelspec": {
      "name": "python3",
      "display_name": "Python 3"
    },
    "language_info": {
      "name": "python"
    }
  },
  "cells": [
    {
      "cell_type": "markdown",
      "metadata": {
        "id": "view-in-github",
        "colab_type": "text"
      },
      "source": [
        "<a href=\"https://colab.research.google.com/github/Omdena-Bhutan/02-data-structures-assignment-team-11/blob/main/DataStructureAssignment.ipynb\" target=\"_parent\"><img src=\"https://colab.research.google.com/assets/colab-badge.svg\" alt=\"Open In Colab\"/></a>"
      ]
    },
    {
      "cell_type": "markdown",
      "source": [
        "**01-Data-Structures**"
      ],
      "metadata": {
        "id": "6K7ZP7Bx_SZG"
      }
    },
    {
      "cell_type": "markdown",
      "source": [
        "# Python Data Structures and Data Types: A Project-Based Assignment"
      ],
      "metadata": {
        "id": "kE4I8Sgg_QWC"
      }
    },
    {
      "cell_type": "markdown",
      "source": [
        "**Project Title: Fantasy Quest Inventory Management System**"
      ],
      "metadata": {
        "id": "7ZtqceNi_PIQ"
      }
    },
    {
      "cell_type": "code",
      "source": [
        "#Create a dictionary named character_profile to store Alistair's basic information. The dictionary should have the following key-value pairs:\n",
        "character_profile = {\n",
        "    'name': \"Alistair the brave\",\n",
        "      'level': 1,\n",
        "      'health': 100,\n",
        "      'mana': 50,\n",
        "      'gold': 50.75,\n",
        "      'is_alive': True\n",
        "}\n",
        "character"
      ],
      "metadata": {
        "id": "-E8i_MeRZ5Wf",
        "colab": {
          "base_uri": "https://localhost:8080/"
        },
        "outputId": "d5833887-c2a8-4ae4-dcc8-867f5dd82dcb"
      },
      "execution_count": 17,
      "outputs": [
        {
          "output_type": "execute_result",
          "data": {
            "text/plain": [
              "{'name': 'Alistair the brave',\n",
              " 'level': 1,\n",
              " 'health': 100,\n",
              " 'mana': 50,\n",
              " 'gold': 50.75,\n",
              " 'is_alive': True}"
            ]
          },
          "metadata": {},
          "execution_count": 17
        }
      ]
    },
    {
      "cell_type": "markdown",
      "source": [
        "Tasks"
      ],
      "metadata": {
        "id": "gyeFsccxc1TS"
      }
    },
    {
      "cell_type": "code",
      "source": [
        "# Print the character's name and level in a formatted string.\n",
        "print(character_profile['level'])\n"
      ],
      "metadata": {
        "colab": {
          "base_uri": "https://localhost:8080/"
        },
        "id": "NjkZ4uEHc57L",
        "outputId": "5e85bd25-9900-44ee-9c64-691d6f5b493d"
      },
      "execution_count": null,
      "outputs": [
        {
          "output_type": "stream",
          "name": "stdout",
          "text": [
            "1\n"
          ]
        }
      ]
    },
    {
      "cell_type": "code",
      "source": [
        "# Update the character's health to 85.\n",
        "character_profile[health] = 85"
      ],
      "metadata": {
        "id": "UI9RihHiiyb5"
      },
      "execution_count": null,
      "outputs": []
    },
    {
      "cell_type": "code",
      "source": [
        "#Add a new key-value pair for 'experience' with a value of 0.\n",
        "character_profile['experience'] = 0\n"
      ],
      "metadata": {
        "id": "CD658byvjOQf"
      },
      "execution_count": null,
      "outputs": []
    },
    {
      "cell_type": "code",
      "source": [
        "#Print the final character_profile dictionary to the console.\n",
        "print(character_profile)"
      ],
      "metadata": {
        "colab": {
          "base_uri": "https://localhost:8080/"
        },
        "id": "4D__PCokjZHd",
        "outputId": "635cf59b-6e07-44f3-eb57-dede5f7dce74"
      },
      "execution_count": null,
      "outputs": [
        {
          "output_type": "stream",
          "name": "stdout",
          "text": [
            "{'name': 'Alistair the brave', 'level': 1, 'health': 100, 'mana': 50, 'gold': 50.75, 'is_alive': True, 'experience': 0}\n"
          ]
        }
      ]
    },
    {
      "cell_type": "markdown",
      "source": [
        "Part 2: Inventory System (Using Lists)"
      ],
      "metadata": {
        "id": "Xtvv3PEFkhHQ"
      }
    },
    {
      "cell_type": "code",
      "source": [
        "#Create a list named inventory to hold the items Alistair is carrying. Items should be represented as strings.\n",
        "inventory = []"
      ],
      "metadata": {
        "id": "LV_0tlRzkilu"
      },
      "execution_count": null,
      "outputs": []
    },
    {
      "cell_type": "markdown",
      "source": [
        "Tasks:"
      ],
      "metadata": {
        "id": "9h8GceQUk9d2"
      }
    },
    {
      "cell_type": "code",
      "source": [
        "#Initialize the list with a few items, for example: ['sword', 'shield', 'health potion'].\n",
        "inventory = ['sword', 'shield', 'health potion']\n",
        "print(inventory)\n",
        "\n",
        "#Add a new item to the inventory (e.g., 'mana potion').\n",
        "inventory.append('mana potion')\n",
        "\n",
        "#Remove an existing item from the inventory (e.g., 'shield').\n",
        "inventory.remove('shield')\n",
        "\n",
        "#Use a for loop to iterate through the inventory list and print each item.\n",
        "for item in inventory:\n",
        "  print(item)"
      ],
      "metadata": {
        "colab": {
          "base_uri": "https://localhost:8080/"
        },
        "id": "467mXdf_lDI8",
        "outputId": "a3a36bed-9758-4cb9-f1a7-1c6979b2e3dc"
      },
      "execution_count": 20,
      "outputs": [
        {
          "output_type": "stream",
          "name": "stdout",
          "text": [
            "['sword', 'shield', 'health potion']\n",
            "sword\n",
            "health potion\n",
            "mana potion\n"
          ]
        }
      ]
    },
    {
      "cell_type": "markdown",
      "source": [
        "Part 3: Character Stats (Using Tuples)"
      ],
      "metadata": {
        "id": "G1TYwg8awDkt"
      }
    },
    {
      "cell_type": "code",
      "source": [
        "'''Tuples are great for storing data that should not change. Create a tuple named base_stats to store Alistair's base attributes.\n",
        "\n",
        "The tuple should contain (strength, dexterity, intelligence).\n",
        "\n",
        "Choose a starting value for each attribute (e.g., (10, 8, 12)).'''\n",
        "\n",
        "base_stats = (10, 8, 12)\n",
        "\n",
        "#Print a statement explaining why a tuple is a good choice for base stats (because they are immutable and won't change).\n",
        "reason = \"Tuple is a good choice for base stats because they are immutable and won't change\"\n",
        "print(reason)\n",
        "\n",
        "#Access and print the value of intelligence from the base_stats tuple.\n",
        "print(base_stats[1])\n",
        "\n",
        "#Challenge: Try to change one of the values in the tuple. Observe and explain the error you receive.\n",
        "#base_stats [1]= 20\n",
        "#print(base_stats)"
      ],
      "metadata": {
        "colab": {
          "base_uri": "https://localhost:8080/"
        },
        "id": "4ymiSN2cwEjU",
        "outputId": "d77c7de2-0805-4f06-ec54-77c7614193da"
      },
      "execution_count": 5,
      "outputs": [
        {
          "output_type": "stream",
          "name": "stdout",
          "text": [
            "Tuple is a good choice for base stats because they are immutable and won't change\n",
            "8\n"
          ]
        }
      ]
    },
    {
      "cell_type": "markdown",
      "source": [
        "TypeError: 'tuple' object does not support item assignment"
      ],
      "metadata": {
        "id": "MObQEk5E1HB_"
      }
    },
    {
      "cell_type": "markdown",
      "source": [
        "Part 4: Quest Log (Using Sets)"
      ],
      "metadata": {
        "id": "RuMFNg2e1SU-"
      }
    },
    {
      "cell_type": "code",
      "source": [
        "#A set is ideal for tracking unique items. Create a set named quest_log to store the titles of Alistair's active quests.\n",
        "quest_log = {}\n"
      ],
      "metadata": {
        "id": "78MEwEh31URy"
      },
      "execution_count": null,
      "outputs": []
    },
    {
      "cell_type": "markdown",
      "source": [
        "Tasks:"
      ],
      "metadata": {
        "id": "6QawoW_Q2N5O"
      }
    },
    {
      "cell_type": "code",
      "source": [
        "# Initialize the set with a few quests, for example: {'Defeat the Goblin King', 'Find the Lost Amulet'}.\n",
        "quest_log ={'Defeat the Goblin King', 'Find the Lost Amulet'}\n",
        "quest_log\n"
      ],
      "metadata": {
        "colab": {
          "base_uri": "https://localhost:8080/"
        },
        "id": "PsUo2bio2RiK",
        "outputId": "ea9735de-cd37-4f84-cd34-308911e22959"
      },
      "execution_count": 9,
      "outputs": [
        {
          "output_type": "execute_result",
          "data": {
            "text/plain": [
              "{'Defeat the Goblin King', 'Find the Lost Amulet'}"
            ]
          },
          "metadata": {},
          "execution_count": 9
        }
      ]
    },
    {
      "cell_type": "code",
      "source": [
        "#Add a new quest to the log (e.g., 'Deliver the Old Scroll').\n",
        "quest_log.add('Deliver the Old Scroll')\n",
        "quest_log"
      ],
      "metadata": {
        "colab": {
          "base_uri": "https://localhost:8080/"
        },
        "id": "YjlmCXSR3k_I",
        "outputId": "27088a36-7b25-4d5d-dfca-9a12bc394acb"
      },
      "execution_count": 10,
      "outputs": [
        {
          "output_type": "execute_result",
          "data": {
            "text/plain": [
              "{'Defeat the Goblin King', 'Deliver the Old Scroll', 'Find the Lost Amulet'}"
            ]
          },
          "metadata": {},
          "execution_count": 10
        }
      ]
    },
    {
      "cell_type": "code",
      "source": [
        "#Add a quest that is already in the set. Notice how the set handles duplicates.\n",
        "quest_log.add('Deliver the Old Scroll')\n",
        "quest_log"
      ],
      "metadata": {
        "colab": {
          "base_uri": "https://localhost:8080/"
        },
        "id": "fn_XhqGc3lqk",
        "outputId": "d220c096-bd39-47f6-d765-121cc0243269"
      },
      "execution_count": 11,
      "outputs": [
        {
          "output_type": "execute_result",
          "data": {
            "text/plain": [
              "{'Defeat the Goblin King', 'Deliver the Old Scroll', 'Find the Lost Amulet'}"
            ]
          },
          "metadata": {},
          "execution_count": 11
        }
      ]
    },
    {
      "cell_type": "code",
      "source": [
        "#Remove a completed quest from the log (e.g., 'Find the Lost Amulet').\n",
        "quest_log.remove('Find the Lost Amulet')\n",
        "quest_log"
      ],
      "metadata": {
        "colab": {
          "base_uri": "https://localhost:8080/"
        },
        "id": "gCdkQf_63vX1",
        "outputId": "3b4209a1-5d2f-429e-c47a-ab078db5833f"
      },
      "execution_count": 13,
      "outputs": [
        {
          "output_type": "execute_result",
          "data": {
            "text/plain": [
              "{'Defeat the Goblin King', 'Deliver the Old Scroll'}"
            ]
          },
          "metadata": {},
          "execution_count": 13
        }
      ]
    },
    {
      "cell_type": "code",
      "source": [
        "#Print the final quest_log set.\n",
        "quest_log"
      ],
      "metadata": {
        "colab": {
          "base_uri": "https://localhost:8080/"
        },
        "id": "waAWDZSp4Hxy",
        "outputId": "f7eccf25-81ee-46ed-9076-8b62845063e4"
      },
      "execution_count": 14,
      "outputs": [
        {
          "output_type": "execute_result",
          "data": {
            "text/plain": [
              "{'Defeat the Goblin King', 'Deliver the Old Scroll'}"
            ]
          },
          "metadata": {},
          "execution_count": 14
        }
      ]
    },
    {
      "cell_type": "markdown",
      "source": [
        "Part 5: Putting it all together"
      ],
      "metadata": {
        "id": "ufeNr-Q24RE7"
      }
    },
    {
      "cell_type": "markdown",
      "source": [
        "Now, combine all the data structures into a single character_sheet dictionary. This dictionary will hold all the information you've created so far."
      ],
      "metadata": {
        "id": "14hpI8zZ5HJl"
      }
    },
    {
      "cell_type": "markdown",
      "source": [
        "Tasks:\n"
      ],
      "metadata": {
        "id": "TleiyQyg5O_t"
      }
    },
    {
      "cell_type": "code",
      "source": [],
      "metadata": {
        "id": "AioXwcgq5QZX"
      },
      "execution_count": null,
      "outputs": []
    },
    {
      "cell_type": "code",
      "source": [
        "'''\n",
        "Create a dictionary named character_sheet.\n",
        "\n",
        "Set the value of the key 'profile' to the character_profile dictionary you created in Part 1.\n",
        "\n",
        "Set the value of the key 'inventory' to the inventory list from Part 2.\n",
        "\n",
        "Set the value of the key 'stats' to the base_stats tuple from Part 3.\n",
        "\n",
        "Set the value of the key 'quests' to the quest_log set from Part 4.\n",
        "'''\n",
        "character_sheet ={'profile': character_profile,\n",
        "                  'inventory': inventory,\n",
        "                  'stats': base_stats,\n",
        "                  'quest': quest_log}\n",
        "\n",
        "#Print the entire character_sheet to demonstrate how different data structures can be nested within each other.\n",
        "character_sheet"
      ],
      "metadata": {
        "colab": {
          "base_uri": "https://localhost:8080/"
        },
        "id": "r66dUeCR5KG3",
        "outputId": "4f646a73-e950-4583-f385-e8298b51c19f"
      },
      "execution_count": 22,
      "outputs": [
        {
          "output_type": "execute_result",
          "data": {
            "text/plain": [
              "{'profile': {'name': 'Alistair the brave',\n",
              "  'level': 1,\n",
              "  'health': 100,\n",
              "  'mana': 50,\n",
              "  'gold': 50.75,\n",
              "  'is_alive': True},\n",
              " 'inventory': ['sword', 'health potion', 'mana potion'],\n",
              " 'stats': (10, 8, 12),\n",
              " 'quest': {'Defeat the Goblin King', 'Deliver the Old Scroll'}}"
            ]
          },
          "metadata": {},
          "execution_count": 22
        }
      ]
    }
  ]
}