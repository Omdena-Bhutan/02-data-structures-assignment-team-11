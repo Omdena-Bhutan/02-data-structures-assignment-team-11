{
  "nbformat": 4,
  "nbformat_minor": 0,
  "metadata": {
    "colab": {
      "provenance": [],
      "authorship_tag": "ABX9TyMIGvekQi2Yh0jhmIeh4E6t",
      "include_colab_link": true
    },
    "kernelspec": {
      "name": "python3",
      "display_name": "Python 3"
    },
    "language_info": {
      "name": "python"
    }
  },
  "cells": [
    {
      "cell_type": "markdown",
      "metadata": {
        "id": "view-in-github",
        "colab_type": "text"
      },
      "source": [
        "<a href=\"https://colab.research.google.com/github/Omdena-Bhutan/02-data-structures-assignment-team-11/blob/main/02_data_structure_assignment.ipynb\" target=\"_parent\"><img src=\"https://colab.research.google.com/assets/colab-badge.svg\" alt=\"Open In Colab\"/></a>"
      ]
    },
    {
      "cell_type": "markdown",
      "source": [
        "# Project Title: Fantasy Quest Inventory Management System"
      ],
      "metadata": {
        "id": "9oqDuzKrvTiI"
      }
    },
    {
      "cell_type": "markdown",
      "source": [
        "\n",
        "Part 1: Character Profile (Using Dictionaries and Basic Types)\n"
      ],
      "metadata": {
        "id": "4nHITUxUvQ-8"
      }
    },
    {
      "cell_type": "code",
      "source": [
        "# Create a dictionary named character_profile to store Alistair's basic information. The dictionary should have the following key-value pairs:\n",
        "\n",
        "charecter_profile = {\n",
        " 'name': \"Alistair the Brave\",\n",
        "    'level': 1,\n",
        "    'health': 100,\n",
        "    'mana': 50,\n",
        "    'gold': 50.75,\n",
        "    'is_alive': True\n",
        "}\n"
      ],
      "metadata": {
        "id": "ISfVvWlPvgWs"
      },
      "execution_count": 62,
      "outputs": []
    },
    {
      "cell_type": "markdown",
      "source": [
        "Tasks"
      ],
      "metadata": {
        "id": "_j1ZeavFws5i"
      }
    },
    {
      "cell_type": "code",
      "source": [
        "# Print the character's name and level in a formatted string.\n",
        "print(charecter_profile['level'])\n"
      ],
      "metadata": {
        "colab": {
          "base_uri": "https://localhost:8080/"
        },
        "id": "HnKzICaTwWt0",
        "outputId": "bfa76801-043f-4247-a7b8-30c5134c58d7"
      },
      "execution_count": 63,
      "outputs": [
        {
          "output_type": "stream",
          "name": "stdout",
          "text": [
            "1\n"
          ]
        }
      ]
    },
    {
      "cell_type": "code",
      "source": [
        "# Update the character's health to 85.\n",
        "charecter_profile['health'] = 85"
      ],
      "metadata": {
        "id": "gM4WBXC6xPAi"
      },
      "execution_count": 64,
      "outputs": []
    },
    {
      "cell_type": "code",
      "source": [
        "# Add a new key-value pair for 'experience' with a value of 0.\n",
        "charecter_profile['experience'] = 0\n",
        "\n",
        "# Print the final character_profile dictionary to the console.\n",
        "print(charecter_profile)"
      ],
      "metadata": {
        "colab": {
          "base_uri": "https://localhost:8080/"
        },
        "id": "1BJI-eQ-xdho",
        "outputId": "c58f6d12-5953-4706-c6f1-3a4743e262b1"
      },
      "execution_count": 65,
      "outputs": [
        {
          "output_type": "stream",
          "name": "stdout",
          "text": [
            "{'name': 'Alistair the Brave', 'level': 1, 'health': 85, 'mana': 50, 'gold': 50.75, 'is_alive': True, 'experience': 0}\n"
          ]
        }
      ]
    },
    {
      "cell_type": "markdown",
      "source": [
        "Part 2: Inventory System (Using Lists)"
      ],
      "metadata": {
        "id": "yhGATKy0yDqV"
      }
    },
    {
      "cell_type": "code",
      "source": [
        "# Create a list named inventory to hold the items Alistair is carrying. Items should be represented as strings.\n",
        "\n",
        "inventory = []"
      ],
      "metadata": {
        "id": "PK7_Ame-x0xI"
      },
      "execution_count": 66,
      "outputs": []
    },
    {
      "cell_type": "markdown",
      "source": [
        "Tasks"
      ],
      "metadata": {
        "id": "K0YhJlxCyfWp"
      }
    },
    {
      "cell_type": "code",
      "source": [
        "# Initialize the list with a few items, for example: ['sword', 'shield', 'health potion'].\n",
        "\n",
        "inventory = ['sword', 'shield', 'health potion']\n",
        "\n",
        "# Add a new item to the inventory (e.g., 'mana potion').\n",
        "\n",
        "inventory.append('mana potion')\n",
        "\n",
        "# Remove an existing item from the inventory (e.g., 'shield').\n",
        "\n",
        "inventory.remove('shield')\n",
        "\n",
        "# Use a for loop to iterate through the inventory list and print each item.\n",
        "\n",
        "for items in inventory:\n",
        "  print(items)"
      ],
      "metadata": {
        "colab": {
          "base_uri": "https://localhost:8080/"
        },
        "id": "wrI0mgk9yN18",
        "outputId": "10d7b366-aef5-4123-95db-99664324c685"
      },
      "execution_count": 67,
      "outputs": [
        {
          "output_type": "stream",
          "name": "stdout",
          "text": [
            "sword\n",
            "health potion\n",
            "mana potion\n"
          ]
        }
      ]
    },
    {
      "cell_type": "markdown",
      "source": [
        "Part 3: Character Stats (Using Tuples)"
      ],
      "metadata": {
        "id": "EiubCvqnzpm0"
      }
    },
    {
      "cell_type": "code",
      "source": [
        "# Tuples are great for storing data that should not change.\n",
        "# Create a tuple named base_stats to store Alistair's base attributes.\n",
        "#The tuple should contain (strength, dexterity, intelligence).Choose a starting value for each attribute (e.g., (10, 8, 12)).\n",
        "\n",
        "base_state = (10,8,12)"
      ],
      "metadata": {
        "id": "czcvfXjbytP2"
      },
      "execution_count": 68,
      "outputs": []
    },
    {
      "cell_type": "code",
      "source": [
        "# Print a statement explaining why a tuple is a good choice for base stats (because they are immutable and won't change).\n",
        "reason = 'The reason why a tuple is a good choice for base stats is because base stats are immutable and wont change'\n",
        "print(reason)\n",
        "\n",
        "# Access and print the value of intelligence from the base_stats tuple.\n",
        "print(base_state[2])"
      ],
      "metadata": {
        "colab": {
          "base_uri": "https://localhost:8080/"
        },
        "id": "6oULb20zzHwu",
        "outputId": "ca93e6eb-f0d1-476a-c4cc-483d5e33895a"
      },
      "execution_count": 69,
      "outputs": [
        {
          "output_type": "stream",
          "name": "stdout",
          "text": [
            "The reason why a tuple is a good choice for base stats is because base stats are immutable and wont change\n",
            "12\n"
          ]
        }
      ]
    },
    {
      "cell_type": "code",
      "source": [
        "# Challenge: Try to change one of the values in the tuple. Observe and explain the error you receive.\n",
        "# base_state[2] = 10"
      ],
      "metadata": {
        "id": "acYjuhIf01sH"
      },
      "execution_count": 70,
      "outputs": []
    },
    {
      "cell_type": "markdown",
      "source": [
        "---------------------------------------------------------------------------\n",
        "TypeError                                 Traceback (most recent call last)\n",
        "/tmp/ipython-input-3247188677.py in <cell line: 0>()\n",
        "      1 # Challenge: Try to change one of the values in the tuple. Observe and explain the error you receive.\n",
        "----> 2 base_state[2] = 10\n",
        "\n",
        "TypeError: 'tuple' object does not support item assignment\n",
        "---------------------------------------------------------------------------\n",
        "\n",
        "Explaination :\n",
        "\n",
        "Tuples are immutable in Python. This means that once a tuple is created, you cannot change its elements. The code in the cell is attempting to modify an element in the base_state tuple, which is why the error is raised. This demonstrates why tuples are a good choice for storing data that should not change, like base character stats."
      ],
      "metadata": {
        "id": "zPAuzfqd1kqi"
      }
    },
    {
      "cell_type": "markdown",
      "source": [
        "Part 4: Quest Log (Using Sets)"
      ],
      "metadata": {
        "id": "tRN9yLZv2EEc"
      }
    },
    {
      "cell_type": "code",
      "source": [
        "# A set is ideal for tracking unique items. Create a set named quest_log to store the titles of Alistair's active quests.\n",
        "\n",
        "quest_log = {}"
      ],
      "metadata": {
        "id": "41Qk59i61dp0"
      },
      "execution_count": 71,
      "outputs": []
    },
    {
      "cell_type": "code",
      "source": [
        "# Initialize the set with a few quests, for example: {'Defeat the Goblin King', 'Find the Lost Amulet'}.\n",
        "\n",
        "quest_log = {'Defeat the Goblin King', 'Find the Lost Amulet'}\n",
        "print(quest_log)\n",
        "\n",
        "# Add a new quest to the log (e.g., 'Deliver the Old Scroll').\n",
        "quest_log.add('Deliver the Old Scroll')\n",
        "print(quest_log)\n",
        "\n",
        "# Remove an existing quest from the log (e.g., 'Find the Lost Amulet').\n",
        "quest_log.remove('Find the Lost Amulet')\n",
        "print(quest_log)\n",
        "\n",
        "# Add a quest that is already in the set. Notice how the set handles duplicates.\n",
        "quest_log.add('Deliver the Old Scroll')\n",
        "print(quest_log)\n",
        "\n",
        "# Remove a completed quest from the log (e.g., 'Find the Lost Amulet').\n",
        "quest_log.remove('Deliver the Old Scroll')\n",
        "print(quest_log)\n",
        "\n",
        "# Print the final quest_log set.\n",
        "print(quest_log)"
      ],
      "metadata": {
        "colab": {
          "base_uri": "https://localhost:8080/"
        },
        "id": "8pzITP9n2Yx9",
        "outputId": "a080aa0b-f438-47fc-f4c4-e27961367e63"
      },
      "execution_count": 72,
      "outputs": [
        {
          "output_type": "stream",
          "name": "stdout",
          "text": [
            "{'Find the Lost Amulet', 'Defeat the Goblin King'}\n",
            "{'Deliver the Old Scroll', 'Find the Lost Amulet', 'Defeat the Goblin King'}\n",
            "{'Deliver the Old Scroll', 'Defeat the Goblin King'}\n",
            "{'Deliver the Old Scroll', 'Defeat the Goblin King'}\n",
            "{'Defeat the Goblin King'}\n",
            "{'Defeat the Goblin King'}\n"
          ]
        }
      ]
    },
    {
      "cell_type": "markdown",
      "source": [
        "Part 5: Putting it all together"
      ],
      "metadata": {
        "id": "nzl2XKWq3e_p"
      }
    },
    {
      "cell_type": "code",
      "source": [
        "# Now, combine all the data structures into a single character_sheet dictionary. This dictionary will hold all the information you've created so far.\n",
        "\n",
        "charecter_sheet = {\n",
        "    'profile': charecter_profile,\n",
        "    'inventory': inventory,\n",
        "    'stats': base_state,\n",
        "    'quests': quest_log\n",
        "    }"
      ],
      "metadata": {
        "id": "U3ZeIluV2aj7"
      },
      "execution_count": 73,
      "outputs": []
    },
    {
      "cell_type": "code",
      "source": [
        "print(charecter_sheet)"
      ],
      "metadata": {
        "colab": {
          "base_uri": "https://localhost:8080/"
        },
        "id": "r4hHGurz3n8n",
        "outputId": "3c4331c6-2cbe-4bf0-b7d1-c089baa85a70"
      },
      "execution_count": 74,
      "outputs": [
        {
          "output_type": "stream",
          "name": "stdout",
          "text": [
            "{'profile': {'name': 'Alistair the Brave', 'level': 1, 'health': 85, 'mana': 50, 'gold': 50.75, 'is_alive': True, 'experience': 0}, 'inventory': ['sword', 'health potion', 'mana potion'], 'stats': (10, 8, 12), 'quests': {'Defeat the Goblin King'}}\n"
          ]
        }
      ]
    },
    {
      "cell_type": "code",
      "source": [],
      "metadata": {
        "id": "7AvkpjpT4hkK"
      },
      "execution_count": 74,
      "outputs": []
    }
  ]
}